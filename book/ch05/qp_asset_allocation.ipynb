{
 "cells": [
  {
   "cell_type": "code",
   "execution_count": 1,
   "metadata": {},
   "outputs": [
    {
     "name": "stdout",
     "output_type": "stream",
     "text": [
      "Set parameter Username\n",
      "Academic license - for non-commercial use only - expires 2024-06-28\n"
     ]
    }
   ],
   "source": [
    "import gurobipy as gp\n",
    "from gurobipy import GRB\n",
    "import numpy as np\n",
    "\n",
    "model = gp.Model(name=\"quadratic_program\")"
   ]
  },
  {
   "cell_type": "code",
   "execution_count": 2,
   "metadata": {},
   "outputs": [],
   "source": [
    "# data\n",
    "corr_data = np.matrix([ [1, 0.6, 0.2], \n",
    "                        [0.6, 1, 0.5],\n",
    "                        [0.2, 0.5, 1]])\n",
    "\n",
    "std_data = np.array([[0.12],\n",
    "                     [0.20], \n",
    "                     [0.05]])\n",
    "\n",
    "std_data_T = np.array([[0.12],\n",
    "                     [0.20], \n",
    "                     [0.05]]).transpose()"
   ]
  },
  {
   "cell_type": "code",
   "execution_count": 3,
   "metadata": {},
   "outputs": [
    {
     "data": {
      "text/plain": [
       "(1, 3)"
      ]
     },
     "execution_count": 3,
     "metadata": {},
     "output_type": "execute_result"
    }
   ],
   "source": [
    "std_data_T.shape"
   ]
  },
  {
   "cell_type": "code",
   "execution_count": 4,
   "metadata": {},
   "outputs": [
    {
     "name": "stdout",
     "output_type": "stream",
     "text": [
      "[[0.0144 0.0144 0.0012]\n",
      " [0.0144 0.04   0.005 ]\n",
      " [0.0012 0.005  0.0025]]\n"
     ]
    }
   ],
   "source": [
    "# calculate covariance matrix\n",
    "v1 = np.matmul(std_data, std_data_T)\n",
    "v = np.multiply(corr_data, v1) \n",
    "print(v)"
   ]
  },
  {
   "cell_type": "code",
   "execution_count": 5,
   "metadata": {},
   "outputs": [],
   "source": [
    "# Percentage of the portfolio invested in asset i\n",
    "x_1 = model.addVar(vtype=GRB.CONTINUOUS, lb=0, name=\"x1\")\n",
    "x_2 = model.addVar(vtype=GRB.CONTINUOUS, lb=0, name=\"x2\")\n",
    "x_3 = model.addVar(vtype=GRB.CONTINUOUS, lb=0, name=\"x3\")"
   ]
  },
  {
   "cell_type": "code",
   "execution_count": 6,
   "metadata": {},
   "outputs": [],
   "source": [
    "# x = np.array([[x_1],\n",
    "#               [x_2],\n",
    "#               [x_3]])\n",
    "# x_T = x.transpose()"
   ]
  },
  {
   "cell_type": "code",
   "execution_count": 18,
   "metadata": {},
   "outputs": [],
   "source": [
    "x = np.array([x_1, x_2, x_3]).reshape(3,1)\n",
    "x_T = x.transpose()"
   ]
  },
  {
   "cell_type": "code",
   "execution_count": 8,
   "metadata": {},
   "outputs": [],
   "source": [
    "# obj_fn_1 = np.matmul(x_T, v)\n",
    "# obj_fn = np.matmul(obj_fn_1, x)"
   ]
  },
  {
   "cell_type": "code",
   "execution_count": 9,
   "metadata": {},
   "outputs": [],
   "source": [
    "# obj_fn.item()"
   ]
  },
  {
   "cell_type": "code",
   "execution_count": 10,
   "metadata": {},
   "outputs": [],
   "source": [
    "# model.setObjective(obj_fn.item(), GRB.MINIMIZE) # minimize the variance of the portfolio return"
   ]
  },
  {
   "cell_type": "code",
   "execution_count": 11,
   "metadata": {},
   "outputs": [],
   "source": [
    "obj_fn = 0.0144*x_1**2 + 0.04*x_2**2 + 0.0025*x_3**2 + 0.0288*x_1*x_2 + 0.0024*x_1*x_3 + 0.01*x_2*x_3\n",
    "model.setObjective(obj_fn, GRB.MINIMIZE)"
   ]
  },
  {
   "cell_type": "code",
   "execution_count": 12,
   "metadata": {},
   "outputs": [
    {
     "data": {
      "text/plain": [
       "<gurobi.Constr *Awaiting Model Update*>"
      ]
     },
     "execution_count": 12,
     "metadata": {},
     "output_type": "execute_result"
    }
   ],
   "source": [
    "# add constraints\n",
    "model.addConstr(x_1 + x_2 + x_3 == 1)\n"
   ]
  },
  {
   "cell_type": "code",
   "execution_count": 13,
   "metadata": {},
   "outputs": [],
   "source": [
    "model.setParam(\"outputFlag\", False)\n",
    "model.optimize()"
   ]
  },
  {
   "cell_type": "code",
   "execution_count": 14,
   "metadata": {},
   "outputs": [
    {
     "name": "stdout",
     "output_type": "stream",
     "text": [
      "Optimization is done. Objective Function value: 0.0023834518368321387\n"
     ]
    }
   ],
   "source": [
    "print(f\"Optimization is done. Objective Function value: {model.ObjVal}\")"
   ]
  },
  {
   "cell_type": "code",
   "execution_count": 15,
   "metadata": {},
   "outputs": [
    {
     "name": "stdout",
     "output_type": "stream",
     "text": [
      "x1:0.08965548800011253\n",
      "x2:5.146916859888827e-07\n",
      "x3:0.9103439973082008\n"
     ]
    }
   ],
   "source": [
    "for v in model.getVars():\n",
    "    print(f\"{v.varName}:{v.x}\")"
   ]
  },
  {
   "cell_type": "code",
   "execution_count": 17,
   "metadata": {},
   "outputs": [],
   "source": [
    "model.write(\"qp_asset_allocation.lp\")\n"
   ]
  },
  {
   "cell_type": "code",
   "execution_count": null,
   "metadata": {},
   "outputs": [],
   "source": []
  }
 ],
 "metadata": {
  "kernelspec": {
   "display_name": "Python 3",
   "language": "python",
   "name": "python3"
  },
  "language_info": {
   "codemirror_mode": {
    "name": "ipython",
    "version": 3
   },
   "file_extension": ".py",
   "mimetype": "text/x-python",
   "name": "python",
   "nbconvert_exporter": "python",
   "pygments_lexer": "ipython3",
   "version": "3.10.6"
  },
  "orig_nbformat": 4
 },
 "nbformat": 4,
 "nbformat_minor": 2
}
