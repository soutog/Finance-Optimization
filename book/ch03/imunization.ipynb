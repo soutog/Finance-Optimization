{
 "cells": [
  {
   "attachments": {},
   "cell_type": "markdown",
   "metadata": {},
   "source": [
    "### Imports & Model Definition"
   ]
  },
  {
   "cell_type": "code",
   "execution_count": 1,
   "metadata": {},
   "outputs": [
    {
     "name": "stdout",
     "output_type": "stream",
     "text": [
      "Set parameter Username\n",
      "Academic license - for non-commercial use only - expires 2024-06-28\n"
     ]
    }
   ],
   "source": [
    "import gurobipy as gp\n",
    "from gurobipy import GRB\n",
    "\n",
    "opt_mod = gp.Model(name=\"linear program\")"
   ]
  },
  {
   "attachments": {},
   "cell_type": "markdown",
   "metadata": {},
   "source": [
    "#### Data"
   ]
  },
  {
   "cell_type": "code",
   "execution_count": 2,
   "metadata": {},
   "outputs": [],
   "source": [
    "ncf = [150, 100, -200, 200, -50, -300] # net cash_flow\n",
    "\n",
    "n = 5 # xj : amount drawn from the line of credit in month j, for j = 1, . . . , 5\n",
    "m = 3 # yj : amount of commercial paper issued in month j, for j = 1, . . . , 3\n",
    "p = 6 # zj : excess funds in month j, for j = 1, . . . , 6.\n",
    "\n",
    "# A = [[10, 10, 10, 10, 10, 110],\n",
    "#        [7, 7, 7, 7, 7, 107],\n",
    "#        [8, 8, 8, 8, 8, 108],\n",
    "#        [6, 6, 6, 6, 106, 0],\n",
    "#        [7, 7, 7, 7, 107, 0],\n",
    "#        [5, 5, 5, 105, 0, 0],\n",
    "#        [10, 10, 110, 0, 0, 0],\n",
    "#        [8, 8, 108, 0, 0, 0],\n",
    "#        [7, 107, 0, 0, 0, 0],\n",
    "#        [100, 0, 0, 0, 0, 0]\n",
    "# ]"
   ]
  },
  {
   "attachments": {},
   "cell_type": "markdown",
   "metadata": {},
   "source": [
    "#### Define decision variables"
   ]
  },
  {
   "cell_type": "code",
   "execution_count": 3,
   "metadata": {},
   "outputs": [
    {
     "data": {
      "text/plain": [
       "{0: <gurobi.Var *Awaiting Model Update*>,\n",
       " 1: <gurobi.Var *Awaiting Model Update*>,\n",
       " 2: <gurobi.Var *Awaiting Model Update*>,\n",
       " 3: <gurobi.Var *Awaiting Model Update*>,\n",
       " 4: <gurobi.Var *Awaiting Model Update*>}"
      ]
     },
     "execution_count": 3,
     "metadata": {},
     "output_type": "execute_result"
    }
   ],
   "source": [
    "x = opt_mod.addVars(n,\n",
    "                    name=\"x\",\n",
    "                    vtype=GRB.CONTINUOUS,\n",
    "                    lb = 0, \n",
    "                    ub = 100,\n",
    ")\n",
    "x"
   ]
  },
  {
   "cell_type": "code",
   "execution_count": 4,
   "metadata": {},
   "outputs": [
    {
     "data": {
      "text/plain": [
       "{0: <gurobi.Var *Awaiting Model Update*>,\n",
       " 1: <gurobi.Var *Awaiting Model Update*>,\n",
       " 2: <gurobi.Var *Awaiting Model Update*>}"
      ]
     },
     "execution_count": 4,
     "metadata": {},
     "output_type": "execute_result"
    }
   ],
   "source": [
    "y = opt_mod.addVars(m,\n",
    "                    name=\"y\",\n",
    "                    vtype=GRB.CONTINUOUS,\n",
    "                    lb = 0\n",
    ")\n",
    "y"
   ]
  },
  {
   "cell_type": "code",
   "execution_count": 5,
   "metadata": {},
   "outputs": [
    {
     "data": {
      "text/plain": [
       "{0: <gurobi.Var *Awaiting Model Update*>,\n",
       " 1: <gurobi.Var *Awaiting Model Update*>,\n",
       " 2: <gurobi.Var *Awaiting Model Update*>,\n",
       " 3: <gurobi.Var *Awaiting Model Update*>,\n",
       " 4: <gurobi.Var *Awaiting Model Update*>,\n",
       " 5: <gurobi.Var *Awaiting Model Update*>}"
      ]
     },
     "execution_count": 5,
     "metadata": {},
     "output_type": "execute_result"
    }
   ],
   "source": [
    "z = opt_mod.addVars(p,\n",
    "                    name=\"z\",\n",
    "                    vtype=GRB.CONTINUOUS,\n",
    "                    lb = 0\n",
    ")\n",
    "z"
   ]
  },
  {
   "attachments": {},
   "cell_type": "markdown",
   "metadata": {},
   "source": [
    "#### Add Constraints"
   ]
  },
  {
   "cell_type": "code",
   "execution_count": 6,
   "metadata": {},
   "outputs": [],
   "source": [
    "con1 = opt_mod.addConstr(x[0]       + y[0]                                - z[0] == ncf[0])\n",
    "con2 = opt_mod.addConstr(x[1]       + y[1]      - 1.01*x[0] + 1.003*z[0]  - z[1] == ncf[1])\n",
    "con3 = opt_mod.addConstr(x[2]       + y[2]      - 1.01*x[1] + 1.003*z[1]  - z[2] == ncf[2])\n",
    "con4 = opt_mod.addConstr(x[3]       -1.02*y[0]  - 1.01*x[2] + 1.003*z[2]  - z[3] == ncf[3])\n",
    "con5 = opt_mod.addConstr(x[4]       -1.02*y[1]  - 1.01*x[3] + 1.003*z[3]  - z[4] == ncf[4])\n",
    "con6 = opt_mod.addConstr(           -1.02*y[2]  - 1.01*x[4] + 1.003*z[4]  - z[5] == ncf[5])\n",
    "\n",
    "\n"
   ]
  },
  {
   "cell_type": "code",
   "execution_count": 7,
   "metadata": {},
   "outputs": [],
   "source": [
    "# for j in range(0, p):\n",
    "#     if j == 0:\n",
    "#         opt_mod.addConstr(x[j] + y[j] - z[j] == ncf[j])\n",
    "#     elif j == 5:\n",
    "#         opt_mod.addConstr(-1.02*y[2] - 1.01*x[4] + 1.003*z[4] - z[5] == ncf[j])\n",
    "#     else:\n",
    "#         if j == 3 or j == 4:\n",
    "#             opt_mod.addConstr(x[j] - 1.02*y[j-3] - 1.01*x[j-1] + 1.003*z[j-1] - z[j] == ncf[j])\n",
    "#         elif j == 1 or j == 2:\n",
    "#             opt_mod.addConstr(x[j] + y[j] - 1.01*x[j-1] + 1.003*z[j-1] - z[j] == ncf[j])\n"
   ]
  },
  {
   "attachments": {},
   "cell_type": "markdown",
   "metadata": {},
   "source": [
    "### Set objective Function"
   ]
  },
  {
   "cell_type": "code",
   "execution_count": 8,
   "metadata": {},
   "outputs": [],
   "source": [
    "opt_mod.setObjective(z[5], GRB.MAXIMIZE)"
   ]
  },
  {
   "attachments": {},
   "cell_type": "markdown",
   "metadata": {},
   "source": [
    "### Solve the model and output the solution"
   ]
  },
  {
   "cell_type": "code",
   "execution_count": 9,
   "metadata": {},
   "outputs": [
    {
     "name": "stdout",
     "output_type": "stream",
     "text": [
      "Gurobi Optimizer version 10.0.2 build v10.0.2rc0 (linux64)\n",
      "\n",
      "CPU model: Intel(R) Core(TM) i7-7500U CPU @ 2.70GHz, instruction set [SSE2|AVX|AVX2]\n",
      "Thread count: 2 physical cores, 4 logical processors, using up to 4 threads\n",
      "\n",
      "Optimize a model with 6 rows, 14 columns and 27 nonzeros\n",
      "Model fingerprint: 0x9745b9e3\n",
      "Coefficient statistics:\n",
      "  Matrix range     [1e+00, 1e+00]\n",
      "  Objective range  [1e+00, 1e+00]\n",
      "  Bounds range     [1e+02, 1e+02]\n",
      "  RHS range        [5e+01, 3e+02]\n",
      "Presolve removed 2 rows and 2 columns\n",
      "Presolve time: 0.01s\n",
      "Presolved: 4 rows, 12 columns, 22 nonzeros\n",
      "\n",
      "Iteration    Objective       Primal Inf.    Dual Inf.      Time\n",
      "       0    8.0000000e+30   2.944118e+30   8.000000e+00      0s\n",
      "       6    9.2496949e+01   0.000000e+00   0.000000e+00      0s\n",
      "\n",
      "Solved in 6 iterations and 0.03 seconds (0.00 work units)\n",
      "Optimal objective  9.249694915e+01\n",
      "Optimization is done. Objective Function Value: 92.49694915254233\n"
     ]
    }
   ],
   "source": [
    "# opt_mod.setParam(\"OutputFlag\", False)\n",
    "opt_mod.optimize()\n",
    "print(f\"Optimization is done. Objective Function Value: {opt_mod.ObjVal}\")"
   ]
  },
  {
   "cell_type": "code",
   "execution_count": 10,
   "metadata": {},
   "outputs": [
    {
     "name": "stdout",
     "output_type": "stream",
     "text": [
      "x[0]:0.0\n",
      "x[1]:50.98039215686275\n",
      "x[2]:0.0\n",
      "x[3]:0.0\n",
      "x[4]:0.0\n",
      "y[0]:150.0\n",
      "y[1]:49.01960784313725\n",
      "y[2]:203.4343635759389\n",
      "z[0]:0.0\n",
      "z[1]:0.0\n",
      "z[2]:351.9441674975075\n",
      "z[3]:0.0\n",
      "z[4]:0.0\n",
      "z[5]:92.49694915254233\n"
     ]
    }
   ],
   "source": [
    "for v in opt_mod.getVars():\n",
    "    print(f\"{v.varName}:{v.x}\")"
   ]
  },
  {
   "cell_type": "code",
   "execution_count": 11,
   "metadata": {},
   "outputs": [],
   "source": [
    "opt_mod.write(\"imunization.sol\")"
   ]
  },
  {
   "cell_type": "code",
   "execution_count": 12,
   "metadata": {},
   "outputs": [],
   "source": [
    "opt_mod.write(\"imunization.lp\")\n"
   ]
  },
  {
   "cell_type": "code",
   "execution_count": null,
   "metadata": {},
   "outputs": [],
   "source": []
  }
 ],
 "metadata": {
  "kernelspec": {
   "display_name": "Python 3",
   "language": "python",
   "name": "python3"
  },
  "language_info": {
   "codemirror_mode": {
    "name": "ipython",
    "version": 3
   },
   "file_extension": ".py",
   "mimetype": "text/x-python",
   "name": "python",
   "nbconvert_exporter": "python",
   "pygments_lexer": "ipython3",
   "version": "3.10.6"
  },
  "orig_nbformat": 4
 },
 "nbformat": 4,
 "nbformat_minor": 2
}
