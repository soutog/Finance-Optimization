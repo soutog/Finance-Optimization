{
 "cells": [
  {
   "attachments": {},
   "cell_type": "markdown",
   "metadata": {},
   "source": [
    "### Imports & Model Definition"
   ]
  },
  {
   "cell_type": "code",
   "execution_count": 1,
   "metadata": {},
   "outputs": [
    {
     "name": "stdout",
     "output_type": "stream",
     "text": [
      "Set parameter Username\n",
      "Academic license - for non-commercial use only - expires 2024-06-28\n"
     ]
    }
   ],
   "source": [
    "import gurobipy as gp\n",
    "from gurobipy import GRB\n",
    "\n",
    "opt_mod = gp.Model(name=\"linear program\")"
   ]
  },
  {
   "attachments": {},
   "cell_type": "markdown",
   "metadata": {},
   "source": [
    "#### Data"
   ]
  },
  {
   "cell_type": "code",
   "execution_count": 2,
   "metadata": {},
   "outputs": [],
   "source": [
    "c = [100, 200, 800, 100, 800, 1200] # cash_required\n",
    "p = [109, 94.8, 99.5, 93.1, 97.2, 92.9, 110, 104, 102, 95.2] #bond-prices\n",
    "b_y = [[10, 10, 10, 10, 10, 110],\n",
    "       [7, 7, 7, 7, 7, 107],\n",
    "       [8, 8, 8, 8, 8, 108],\n",
    "       [6, 6, 6, 6, 106, 0],\n",
    "       [7, 7, 7, 7, 107, 0],\n",
    "       [5, 5, 5, 105, 0, 0],\n",
    "       [10, 10, 110, 0, 0, 0],\n",
    "       [8, 8, 108, 0, 0, 0],\n",
    "       [7, 107, 0, 0, 0, 0],\n",
    "       [100, 0, 0, 0, 0, 0]\n",
    "    ] # ten government bonds with the cash ﬂows and current prices\n",
    "n = len(p) # 10\n",
    "m = len(c) # 6\n"
   ]
  },
  {
   "attachments": {},
   "cell_type": "markdown",
   "metadata": {},
   "source": [
    "#### Define decision variables"
   ]
  },
  {
   "cell_type": "code",
   "execution_count": 3,
   "metadata": {},
   "outputs": [],
   "source": [
    "x = opt_mod.addVars(n,\n",
    "                    name=[\"x1\",\"x2\",\"x3\",\"x4\",\"x5\",\"x6\",\"x7\",\"x8\",\"x9\",\"x10\"],\n",
    "                    vtype=GRB.CONTINUOUS,\n",
    "                    lb = 0\n",
    ")"
   ]
  },
  {
   "cell_type": "code",
   "execution_count": 4,
   "metadata": {},
   "outputs": [],
   "source": [
    "s = opt_mod.addVars(m,\n",
    "                    name=[\"s1\",\"s2\",\"s3\",\"s4\",\"s5\",\"s6\"],\n",
    "                    vtype=GRB.CONTINUOUS,\n",
    "                    lb = 0\n",
    ")"
   ]
  },
  {
   "attachments": {},
   "cell_type": "markdown",
   "metadata": {},
   "source": [
    "#### Add Constraints"
   ]
  },
  {
   "cell_type": "code",
   "execution_count": 5,
   "metadata": {},
   "outputs": [],
   "source": [
    "for j in range(0, m):\n",
    "    if j == 0:\n",
    "        opt_mod.addConstr(sum(x[i]*b_y[i][j] for i in range(0, n)) == c[j] + s[j])\n",
    "    else:\n",
    "        opt_mod.addConstr(sum(x[i]*b_y[i][j] for i in range(0, n)) + s[j-1] == c[j] + s[j])\n"
   ]
  },
  {
   "attachments": {},
   "cell_type": "markdown",
   "metadata": {},
   "source": [
    "### Set objective Function"
   ]
  },
  {
   "cell_type": "code",
   "execution_count": 6,
   "metadata": {},
   "outputs": [],
   "source": [
    "obj_fn = sum(p[i]*x[i] for i in range(n))\n",
    "opt_mod.setObjective(obj_fn, GRB.MINIMIZE)"
   ]
  },
  {
   "cell_type": "code",
   "execution_count": 10,
   "metadata": {},
   "outputs": [
    {
     "data": {
      "text/plain": [
       "<gurobi.LinExpr: 109.0 x1 + 94.8 x2 + 99.5 x3 + 93.1 x4 + 97.2 x5 + 92.9 x6 + 110.0 x7 + 104.0 x8 + 102.0 x9 + 95.2 x10>"
      ]
     },
     "execution_count": 10,
     "metadata": {},
     "output_type": "execute_result"
    }
   ],
   "source": [
    "obj_fn"
   ]
  },
  {
   "attachments": {},
   "cell_type": "markdown",
   "metadata": {},
   "source": [
    "### Solve the model and output the solution"
   ]
  },
  {
   "cell_type": "code",
   "execution_count": 7,
   "metadata": {},
   "outputs": [
    {
     "name": "stdout",
     "output_type": "stream",
     "text": [
      "Gurobi Optimizer version 10.0.2 build v10.0.2rc0 (linux64)\n",
      "\n",
      "CPU model: Intel(R) Core(TM) i7-7500U CPU @ 2.70GHz, instruction set [SSE2|AVX|AVX2]\n",
      "Thread count: 2 physical cores, 4 logical processors, using up to 4 threads\n",
      "\n",
      "Optimize a model with 6 rows, 16 columns and 52 nonzeros\n",
      "Model fingerprint: 0x9b4b4833\n",
      "Coefficient statistics:\n",
      "  Matrix range     [1e+00, 1e+02]\n",
      "  Objective range  [9e+01, 1e+02]\n",
      "  Bounds range     [0e+00, 0e+00]\n",
      "  RHS range        [1e+02, 1e+03]\n",
      "Presolve removed 0 rows and 1 columns\n",
      "Presolve time: 0.05s\n",
      "Presolved: 6 rows, 15 columns, 51 nonzeros\n",
      "\n",
      "Iteration    Objective       Primal Inf.    Dual Inf.      Time\n",
      "       0    0.0000000e+00   4.125000e+02   0.000000e+00      0s\n",
      "       4    2.3056916e+03   0.000000e+00   0.000000e+00      0s\n",
      "\n",
      "Solved in 4 iterations and 0.12 seconds (0.00 work units)\n",
      "Optimal objective  2.305691648e+03\n",
      "Optimization is done. Objective Function Value: 2305.69164800379\n"
     ]
    }
   ],
   "source": [
    "# opt_mod.setParam(\"OutputFlag\", False)\n",
    "opt_mod.optimize()\n",
    "print(f\"Optimization is done. Objective Function Value: {opt_mod.ObjVal}\")"
   ]
  },
  {
   "cell_type": "code",
   "execution_count": 8,
   "metadata": {},
   "outputs": [
    {
     "name": "stdout",
     "output_type": "stream",
     "text": [
      "x1:0.0\n",
      "x2:11.214953271028037\n",
      "x3:0.0\n",
      "x4:6.63384512683578\n",
      "x5:0.0\n",
      "x6:0.0\n",
      "x7:0.0\n",
      "x8:6.008683621172317\n",
      "x9:0.0\n",
      "x10:0.0\n",
      "s1:66.37721262758947\n",
      "s2:32.75442525517883\n",
      "s3:0.0\n",
      "s4:18.30774365821094\n",
      "s5:0.0\n",
      "s6:0.0\n"
     ]
    }
   ],
   "source": [
    "for v in opt_mod.getVars():\n",
    "    print(f\"{v.varName}:{v.x}\")"
   ]
  },
  {
   "cell_type": "code",
   "execution_count": 9,
   "metadata": {},
   "outputs": [],
   "source": [
    "opt_mod.write(\"dedication.sol\")"
   ]
  },
  {
   "cell_type": "code",
   "execution_count": null,
   "metadata": {},
   "outputs": [],
   "source": []
  }
 ],
 "metadata": {
  "kernelspec": {
   "display_name": "Python 3",
   "language": "python",
   "name": "python3"
  },
  "language_info": {
   "codemirror_mode": {
    "name": "ipython",
    "version": 3
   },
   "file_extension": ".py",
   "mimetype": "text/x-python",
   "name": "python",
   "nbconvert_exporter": "python",
   "pygments_lexer": "ipython3",
   "version": "3.10.6"
  },
  "orig_nbformat": 4
 },
 "nbformat": 4,
 "nbformat_minor": 2
}
