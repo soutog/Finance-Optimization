{
 "cells": [
  {
   "cell_type": "code",
   "execution_count": 1,
   "metadata": {},
   "outputs": [
    {
     "name": "stdout",
     "output_type": "stream",
     "text": [
      "Set parameter Username\n",
      "Academic license - for non-commercial use only - expires 2024-06-28\n"
     ]
    }
   ],
   "source": [
    "import gurobipy as gp\n",
    "from gurobipy import GRB\n",
    "import numpy as np\n",
    "\n",
    "opt_mod = gp.Model(name=\"linear program\")"
   ]
  },
  {
   "cell_type": "markdown",
   "metadata": {},
   "source": [
    "### Data"
   ]
  },
  {
   "cell_type": "code",
   "execution_count": 2,
   "metadata": {},
   "outputs": [],
   "source": [
    "exchange_rates = [  [1, 0.639, 0.537, 1.0835, 98.89],\n",
    "                    [1.564, 1, 0.843, 1.6958, 154.773],\n",
    "                    [1.856, 1.186, 1, 2.014, 184.122],\n",
    "                    [0.9223, 0.589, 0.496, 1, 91.263],\n",
    "                    [0.01011, 0.00645, 0.00543, 0.01095, 1],\n",
    "                ]"
   ]
  },
  {
   "cell_type": "code",
   "execution_count": 3,
   "metadata": {},
   "outputs": [],
   "source": [
    "# exchange_rates = [  [1, 1.564, 1.856, 0.9223, 0.01011],\n",
    "#                     [0.639, 1, 1.186, 0.589, 0.00645],\n",
    "#                     [0.537, 0.843  , 1, 0.496  , 0.00543],\n",
    "#                     [1.0835, 1.6958, 2.014, 1, 0.01095],\n",
    "#                     [98.89, 154.773, 184.122,  91.263,   1]\n",
    "#                 ]"
   ]
  },
  {
   "cell_type": "code",
   "execution_count": 4,
   "metadata": {},
   "outputs": [],
   "source": [
    "# list(np.array(exchange_rates).transpose())"
   ]
  },
  {
   "cell_type": "markdown",
   "metadata": {},
   "source": [
    "#### Define decision variables"
   ]
  },
  {
   "cell_type": "code",
   "execution_count": 5,
   "metadata": {},
   "outputs": [
    {
     "data": {
      "text/plain": [
       "5"
      ]
     },
     "execution_count": 5,
     "metadata": {},
     "output_type": "execute_result"
    }
   ],
   "source": [
    "n = len(exchange_rates[1])\n",
    "n"
   ]
  },
  {
   "cell_type": "code",
   "execution_count": 6,
   "metadata": {},
   "outputs": [],
   "source": [
    "x = opt_mod.addVars(n,\n",
    "                    n,\n",
    "                    name='x',\n",
    "                    vtype=GRB.CONTINUOUS,\n",
    "                    lb = 0\n",
    ")"
   ]
  },
  {
   "cell_type": "code",
   "execution_count": 7,
   "metadata": {},
   "outputs": [],
   "source": [
    "y = opt_mod.addVars(n, \n",
    "                    name='y',\n",
    "                    vtype=GRB.CONTINUOUS,\n",
    "                    lb=0)"
   ]
  },
  {
   "cell_type": "markdown",
   "metadata": {},
   "source": [
    "#### Add Constraints"
   ]
  },
  {
   "cell_type": "code",
   "execution_count": 8,
   "metadata": {},
   "outputs": [],
   "source": [
    "for k in range(0, n):\n",
    "    opt_mod.addConstr(sum(x[i,k]*exchange_rates[i][k] for i in range(0, n)) - sum(x[k,j] for j in range(0, n))  == y[k])\n"
   ]
  },
  {
   "cell_type": "code",
   "execution_count": 9,
   "metadata": {},
   "outputs": [
    {
     "data": {
      "text/plain": [
       "<gurobi.Constr *Awaiting Model Update*>"
      ]
     },
     "execution_count": 9,
     "metadata": {},
     "output_type": "execute_result"
    }
   ],
   "source": [
    "opt_mod.addConstr(y[0] <= 1)\n"
   ]
  },
  {
   "cell_type": "markdown",
   "metadata": {},
   "source": [
    "### Set the objective function"
   ]
  },
  {
   "cell_type": "code",
   "execution_count": 10,
   "metadata": {},
   "outputs": [],
   "source": [
    "opt_mod.setObjective(y[0], GRB.MAXIMIZE)"
   ]
  },
  {
   "cell_type": "markdown",
   "metadata": {},
   "source": [
    "### Solve the model and output the solution"
   ]
  },
  {
   "cell_type": "code",
   "execution_count": 11,
   "metadata": {},
   "outputs": [
    {
     "name": "stdout",
     "output_type": "stream",
     "text": [
      "Gurobi Optimizer version 10.0.2 build v10.0.2rc0 (linux64)\n",
      "\n",
      "CPU model: Intel(R) Core(TM) i7-7500U CPU @ 2.70GHz, instruction set [SSE2|AVX|AVX2]\n",
      "Thread count: 2 physical cores, 4 logical processors, using up to 4 threads\n",
      "\n",
      "Optimize a model with 6 rows, 30 columns and 46 nonzeros\n",
      "Model fingerprint: 0x19662f39\n",
      "Coefficient statistics:\n",
      "  Matrix range     [5e-03, 2e+02]\n",
      "  Objective range  [1e+00, 1e+00]\n",
      "  Bounds range     [0e+00, 0e+00]\n",
      "  RHS range        [1e+00, 1e+00]\n",
      "Presolve removed 1 rows and 9 columns\n",
      "Presolve time: 0.01s\n",
      "Presolved: 5 rows, 21 columns, 41 nonzeros\n",
      "\n",
      "Iteration    Objective       Primal Inf.    Dual Inf.      Time\n",
      "       0    1.0000000e+00   1.000000e+00   0.000000e+00      0s\n",
      "       4    1.0000000e+00   0.000000e+00   0.000000e+00      0s\n",
      "\n",
      "Solved in 4 iterations and 0.03 seconds (0.00 work units)\n",
      "Optimal objective  1.000000000e+00\n",
      "Optimization is done. Objective Function Value: 1.0\n"
     ]
    }
   ],
   "source": [
    "# opt_mod.setParam(\"OutputFlag\", False)\n",
    "opt_mod.optimize()\n",
    "print(f\"Optimization is done. Objective Function Value: {opt_mod.ObjVal}\")"
   ]
  },
  {
   "cell_type": "code",
   "execution_count": 12,
   "metadata": {},
   "outputs": [
    {
     "name": "stdout",
     "output_type": "stream",
     "text": [
      "x[0,0]:0.0\n",
      "x[0,1]:1669.1722070967649\n",
      "x[0,2]:0.0\n",
      "x[0,3]:0.0\n",
      "x[0,4]:0.0\n",
      "x[1,0]:0.0\n",
      "x[1,1]:0.0\n",
      "x[1,2]:1066.6010403348328\n",
      "x[1,3]:0.0\n",
      "x[1,4]:0.0\n",
      "x[2,0]:0.0\n",
      "x[2,1]:0.0\n",
      "x[2,2]:0.0\n",
      "x[2,3]:899.1446770022641\n",
      "x[2,4]:0.0\n",
      "x[3,0]:1810.8773794825597\n",
      "x[3,1]:0.0\n",
      "x[3,2]:0.0\n",
      "x[3,3]:0.0\n",
      "x[3,4]:0.0\n",
      "x[4,0]:0.0\n",
      "x[4,1]:0.0\n",
      "x[4,2]:0.0\n",
      "x[4,3]:0.0\n",
      "x[4,4]:0.0\n",
      "y[0]:1.0\n",
      "y[1]:0.0\n",
      "y[2]:0.0\n",
      "y[3]:0.0\n",
      "y[4]:0.0\n"
     ]
    }
   ],
   "source": [
    "for v in opt_mod.getVars():\n",
    "    print(f\"{v.varName}:{v.x}\")"
   ]
  },
  {
   "cell_type": "code",
   "execution_count": 13,
   "metadata": {},
   "outputs": [],
   "source": [
    "opt_mod.write(\"arbitrage.lp\")\n"
   ]
  },
  {
   "cell_type": "code",
   "execution_count": null,
   "metadata": {},
   "outputs": [],
   "source": []
  }
 ],
 "metadata": {
  "kernelspec": {
   "display_name": "Python 3",
   "language": "python",
   "name": "python3"
  },
  "language_info": {
   "codemirror_mode": {
    "name": "ipython",
    "version": 3
   },
   "file_extension": ".py",
   "mimetype": "text/x-python",
   "name": "python",
   "nbconvert_exporter": "python",
   "pygments_lexer": "ipython3",
   "version": "3.10.6"
  },
  "orig_nbformat": 4
 },
 "nbformat": 4,
 "nbformat_minor": 2
}
