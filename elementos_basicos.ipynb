{
  "cells": [
    {
      "cell_type": "code",
      "execution_count": 1,
      "metadata": {
        "colab": {
          "base_uri": "https://localhost:8080/"
        },
        "id": "fwii7Pyrn2y1",
        "outputId": "cbb9fadc-62e7-44cd-f105-d48f76da4e80"
      },
      "outputs": [
        {
          "name": "stdout",
          "output_type": "stream",
          "text": [
            "Defaulting to user installation because normal site-packages is not writeable\n",
            "Requirement already satisfied: yfinance in /home/gabriel/.local/lib/python3.10/site-packages (0.2.22)\n",
            "Requirement already satisfied: numpy>=1.16.5 in /home/gabriel/.local/lib/python3.10/site-packages (from yfinance) (1.25.0)\n",
            "Requirement already satisfied: beautifulsoup4>=4.11.1 in /home/gabriel/.local/lib/python3.10/site-packages (from yfinance) (4.12.2)\n",
            "Requirement already satisfied: multitasking>=0.0.7 in /home/gabriel/.local/lib/python3.10/site-packages (from yfinance) (0.0.11)\n",
            "Requirement already satisfied: pytz>=2022.5 in /home/gabriel/.local/lib/python3.10/site-packages (from yfinance) (2023.3)\n",
            "Requirement already satisfied: html5lib>=1.1 in /usr/lib/python3/dist-packages (from yfinance) (1.1)\n",
            "Requirement already satisfied: frozendict>=2.3.4 in /home/gabriel/.local/lib/python3.10/site-packages (from yfinance) (2.3.8)\n",
            "Requirement already satisfied: lxml>=4.9.1 in /home/gabriel/.local/lib/python3.10/site-packages (from yfinance) (4.9.2)\n",
            "Requirement already satisfied: appdirs>=1.4.4 in /usr/lib/python3/dist-packages (from yfinance) (1.4.4)\n",
            "Requirement already satisfied: requests>=2.26 in /home/gabriel/.local/lib/python3.10/site-packages (from yfinance) (2.28.2)\n",
            "Requirement already satisfied: pandas>=1.3.0 in /home/gabriel/.local/lib/python3.10/site-packages (from yfinance) (1.5.3)\n",
            "Requirement already satisfied: soupsieve>1.2 in /usr/lib/python3/dist-packages (from beautifulsoup4>=4.11.1->yfinance) (2.3.1)\n",
            "Requirement already satisfied: python-dateutil>=2.8.1 in /home/gabriel/.local/lib/python3.10/site-packages (from pandas>=1.3.0->yfinance) (2.8.2)\n",
            "Requirement already satisfied: urllib3<1.27,>=1.21.1 in /usr/lib/python3/dist-packages (from requests>=2.26->yfinance) (1.26.5)\n",
            "Requirement already satisfied: certifi>=2017.4.17 in /usr/lib/python3/dist-packages (from requests>=2.26->yfinance) (2020.6.20)\n",
            "Requirement already satisfied: charset-normalizer<4,>=2 in /home/gabriel/.local/lib/python3.10/site-packages (from requests>=2.26->yfinance) (3.1.0)\n",
            "Requirement already satisfied: idna<4,>=2.5 in /usr/lib/python3/dist-packages (from requests>=2.26->yfinance) (3.3)\n",
            "Requirement already satisfied: six>=1.5 in /usr/lib/python3/dist-packages (from python-dateutil>=2.8.1->pandas>=1.3.0->yfinance) (1.16.0)\n",
            "Defaulting to user installation because normal site-packages is not writeable\n",
            "Collecting ortools\n",
            "  Downloading ortools-9.6.2534-cp310-cp310-manylinux_2_17_x86_64.manylinux2014_x86_64.whl (16.4 MB)\n",
            "\u001b[2K     \u001b[38;2;114;156;31m━━━━━━━━━━━━━━━━━━━━━━━━━━━━━━━━━━━━━━━━\u001b[0m \u001b[32m16.4/16.4 MB\u001b[0m \u001b[31m4.5 MB/s\u001b[0m eta \u001b[36m0:00:00\u001b[0mm eta \u001b[36m0:00:01\u001b[0m[36m0:00:01\u001b[0m\n",
            "\u001b[?25hCollecting absl-py>=0.13\n",
            "  Downloading absl_py-1.4.0-py3-none-any.whl (126 kB)\n",
            "\u001b[2K     \u001b[38;2;114;156;31m━━━━━━━━━━━━━━━━━━━━━━━━━━━━━━━━━━━━━━━\u001b[0m \u001b[32m126.5/126.5 KB\u001b[0m \u001b[31m3.7 MB/s\u001b[0m eta \u001b[36m0:00:00\u001b[0m\n",
            "\u001b[?25hRequirement already satisfied: numpy>=1.13.3 in /home/gabriel/.local/lib/python3.10/site-packages (from ortools) (1.25.0)\n",
            "Collecting scipy>=1.10.0\n",
            "  Downloading scipy-1.11.1-cp310-cp310-manylinux_2_17_x86_64.manylinux2014_x86_64.whl (36.3 MB)\n",
            "\u001b[2K     \u001b[38;2;114;156;31m━━━━━━━━━━━━━━━━━━━━━━━━━━━━━━━━━━━━━━━━\u001b[0m \u001b[32m36.3/36.3 MB\u001b[0m \u001b[31m8.8 MB/s\u001b[0m eta \u001b[36m0:00:00\u001b[0m0m eta \u001b[36m0:00:01\u001b[0m0:01\u001b[0m:01\u001b[0m\n",
            "\u001b[?25hCollecting protobuf>=4.21.12\n",
            "  Downloading protobuf-4.23.3-cp37-abi3-manylinux2014_x86_64.whl (304 kB)\n",
            "\u001b[2K     \u001b[38;2;114;156;31m━━━━━━━━━━━━━━━━━━━━━━━━━━━━━━━━━━━━━━━\u001b[0m \u001b[32m304.5/304.5 KB\u001b[0m \u001b[31m4.4 MB/s\u001b[0m eta \u001b[36m0:00:00\u001b[0m[36m0:00:01\u001b[0m\n",
            "\u001b[?25hInstalling collected packages: scipy, protobuf, absl-py, ortools\n",
            "Successfully installed absl-py-1.4.0 ortools-9.6.2534 protobuf-4.23.3 scipy-1.11.1\n",
            "Defaulting to user installation because normal site-packages is not writeable\n",
            "Requirement already satisfied: ipython in /usr/lib/python3/dist-packages (7.31.1)\n"
          ]
        }
      ],
      "source": [
        "!pip install yfinance\n",
        "!pip install ortools\n",
        "!pip install ipython"
      ]
    },
    {
      "cell_type": "code",
      "execution_count": 10,
      "metadata": {
        "id": "UEbgJWMJGewD"
      },
      "outputs": [],
      "source": [
        "import yfinance as yf\n",
        "import datetime\n",
        "\n",
        "import pandas as pd\n",
        "import numpy as np\n",
        "import scipy.stats as stats\n",
        "import matplotlib.pyplot as plt\n",
        "import matplotlib.ticker as ticker\n",
        "\n",
        "# from tables import Column\n",
        "import time"
      ]
    },
    {
      "cell_type": "code",
      "execution_count": 11,
      "metadata": {
        "id": "7YwHZxpKGoLG"
      },
      "outputs": [],
      "source": [
        "def FormataStringData(data):\n",
        "\n",
        "  dia  = data.split(\"/\")[0]\n",
        "  mes  = data.split(\"/\")[1]\n",
        "  ano  = data.split(\"/\")[2]\n",
        "\n",
        "  return ano + '-' + mes + '-' + dia"
      ]
    },
    {
      "cell_type": "code",
      "execution_count": 12,
      "metadata": {
        "colab": {
          "base_uri": "https://localhost:8080/",
          "height": 489
        },
        "id": "iQK1qLDPGr3-",
        "outputId": "b4cddf3b-0b65-488a-f53d-65f5d7d6cbfd"
      },
      "outputs": [
        {
          "name": "stdout",
          "output_type": "stream",
          "text": [
            "[*********************100%***********************]  1 of 1 completed\n",
            "[*********************100%***********************]  1 of 1 completed\n"
          ]
        },
        {
          "data": {
            "text/html": [
              "<div>\n",
              "<style scoped>\n",
              "    .dataframe tbody tr th:only-of-type {\n",
              "        vertical-align: middle;\n",
              "    }\n",
              "\n",
              "    .dataframe tbody tr th {\n",
              "        vertical-align: top;\n",
              "    }\n",
              "\n",
              "    .dataframe thead th {\n",
              "        text-align: right;\n",
              "    }\n",
              "</style>\n",
              "<table border=\"1\" class=\"dataframe\">\n",
              "  <thead>\n",
              "    <tr style=\"text-align: right;\">\n",
              "      <th></th>\n",
              "      <th>Open</th>\n",
              "      <th>High</th>\n",
              "      <th>Low</th>\n",
              "      <th>Close</th>\n",
              "      <th>Adj Close</th>\n",
              "      <th>Volume</th>\n",
              "    </tr>\n",
              "    <tr>\n",
              "      <th>Date</th>\n",
              "      <th></th>\n",
              "      <th></th>\n",
              "      <th></th>\n",
              "      <th></th>\n",
              "      <th></th>\n",
              "      <th></th>\n",
              "    </tr>\n",
              "  </thead>\n",
              "  <tbody>\n",
              "    <tr>\n",
              "      <th>2017-12-01</th>\n",
              "      <td>24.740000</td>\n",
              "      <td>24.933332</td>\n",
              "      <td>24.360001</td>\n",
              "      <td>24.613333</td>\n",
              "      <td>18.721016</td>\n",
              "      <td>150150</td>\n",
              "    </tr>\n",
              "    <tr>\n",
              "      <th>2017-12-04</th>\n",
              "      <td>24.673332</td>\n",
              "      <td>24.933332</td>\n",
              "      <td>24.433332</td>\n",
              "      <td>24.853333</td>\n",
              "      <td>18.903555</td>\n",
              "      <td>545700</td>\n",
              "    </tr>\n",
              "    <tr>\n",
              "      <th>2017-12-05</th>\n",
              "      <td>24.853333</td>\n",
              "      <td>25.333332</td>\n",
              "      <td>24.639999</td>\n",
              "      <td>24.740000</td>\n",
              "      <td>18.817356</td>\n",
              "      <td>95550</td>\n",
              "    </tr>\n",
              "    <tr>\n",
              "      <th>2017-12-06</th>\n",
              "      <td>24.533333</td>\n",
              "      <td>24.799999</td>\n",
              "      <td>24.286667</td>\n",
              "      <td>24.566666</td>\n",
              "      <td>18.685520</td>\n",
              "      <td>210300</td>\n",
              "    </tr>\n",
              "    <tr>\n",
              "      <th>2017-12-07</th>\n",
              "      <td>24.500000</td>\n",
              "      <td>24.833332</td>\n",
              "      <td>24.053333</td>\n",
              "      <td>24.660000</td>\n",
              "      <td>18.756517</td>\n",
              "      <td>83100</td>\n",
              "    </tr>\n",
              "    <tr>\n",
              "      <th>...</th>\n",
              "      <td>...</td>\n",
              "      <td>...</td>\n",
              "      <td>...</td>\n",
              "      <td>...</td>\n",
              "      <td>...</td>\n",
              "      <td>...</td>\n",
              "    </tr>\n",
              "    <tr>\n",
              "      <th>2022-12-23</th>\n",
              "      <td>21.570000</td>\n",
              "      <td>22.070000</td>\n",
              "      <td>21.520000</td>\n",
              "      <td>21.860001</td>\n",
              "      <td>21.221642</td>\n",
              "      <td>623700</td>\n",
              "    </tr>\n",
              "    <tr>\n",
              "      <th>2022-12-26</th>\n",
              "      <td>21.840000</td>\n",
              "      <td>21.840000</td>\n",
              "      <td>21.379999</td>\n",
              "      <td>21.580000</td>\n",
              "      <td>20.949821</td>\n",
              "      <td>149600</td>\n",
              "    </tr>\n",
              "    <tr>\n",
              "      <th>2022-12-27</th>\n",
              "      <td>21.650000</td>\n",
              "      <td>21.650000</td>\n",
              "      <td>21.200001</td>\n",
              "      <td>21.379999</td>\n",
              "      <td>20.755659</td>\n",
              "      <td>863300</td>\n",
              "    </tr>\n",
              "    <tr>\n",
              "      <th>2022-12-28</th>\n",
              "      <td>21.480000</td>\n",
              "      <td>22.020000</td>\n",
              "      <td>21.379999</td>\n",
              "      <td>21.930000</td>\n",
              "      <td>21.289600</td>\n",
              "      <td>594000</td>\n",
              "    </tr>\n",
              "    <tr>\n",
              "      <th>2022-12-29</th>\n",
              "      <td>22.000000</td>\n",
              "      <td>22.219999</td>\n",
              "      <td>21.889999</td>\n",
              "      <td>21.889999</td>\n",
              "      <td>21.250761</td>\n",
              "      <td>1321900</td>\n",
              "    </tr>\n",
              "  </tbody>\n",
              "</table>\n",
              "<p>1260 rows × 6 columns</p>\n",
              "</div>"
            ],
            "text/plain": [
              "                 Open       High        Low      Close  Adj Close   Volume\n",
              "Date                                                                      \n",
              "2017-12-01  24.740000  24.933332  24.360001  24.613333  18.721016   150150\n",
              "2017-12-04  24.673332  24.933332  24.433332  24.853333  18.903555   545700\n",
              "2017-12-05  24.853333  25.333332  24.639999  24.740000  18.817356    95550\n",
              "2017-12-06  24.533333  24.799999  24.286667  24.566666  18.685520   210300\n",
              "2017-12-07  24.500000  24.833332  24.053333  24.660000  18.756517    83100\n",
              "...               ...        ...        ...        ...        ...      ...\n",
              "2022-12-23  21.570000  22.070000  21.520000  21.860001  21.221642   623700\n",
              "2022-12-26  21.840000  21.840000  21.379999  21.580000  20.949821   149600\n",
              "2022-12-27  21.650000  21.650000  21.200001  21.379999  20.755659   863300\n",
              "2022-12-28  21.480000  22.020000  21.379999  21.930000  21.289600   594000\n",
              "2022-12-29  22.000000  22.219999  21.889999  21.889999  21.250761  1321900\n",
              "\n",
              "[1260 rows x 6 columns]"
            ]
          },
          "execution_count": 12,
          "metadata": {},
          "output_type": "execute_result"
        }
      ],
      "source": [
        "stock1 = 'ITUB3.SA'\n",
        "stock2 = 'VALE3.SA'\n",
        "\n",
        "stock1_data = yf.download(stock1, start=FormataStringData('01/12/2017'), end=FormataStringData('01/01/2023'))\n",
        "stock1_data = stock1_data.fillna(0)\n",
        "\n",
        "stock2_data = yf.download(stock2, start=FormataStringData('01/12/2017'), end=FormataStringData('01/01/2023'))\n",
        "stock2_data = stock2_data.fillna(0)\n",
        "\n",
        "stock1_data"
      ]
    },
    {
      "cell_type": "code",
      "execution_count": 21,
      "metadata": {},
      "outputs": [
        {
          "data": {
            "text/plain": [
              "DatetimeIndex(['2017-12-01', '2017-12-04', '2017-12-05', '2017-12-06',\n",
              "               '2017-12-07', '2017-12-08', '2017-12-11', '2017-12-12',\n",
              "               '2017-12-13', '2017-12-14',\n",
              "               ...\n",
              "               '2022-12-16', '2022-12-19', '2022-12-20', '2022-12-21',\n",
              "               '2022-12-22', '2022-12-23', '2022-12-26', '2022-12-27',\n",
              "               '2022-12-28', '2022-12-29'],\n",
              "              dtype='datetime64[ns]', name='Date', length=1260, freq=None)"
            ]
          },
          "execution_count": 21,
          "metadata": {},
          "output_type": "execute_result"
        }
      ],
      "source": [
        "stock1_data.index"
      ]
    },
    {
      "cell_type": "code",
      "execution_count": 9,
      "metadata": {
        "colab": {
          "base_uri": "https://localhost:8080/"
        },
        "id": "9UXR7pUJGv7R",
        "outputId": "c128d399-efb6-458e-b578-4cc8cbc69638"
      },
      "outputs": [
        {
          "name": "stdout",
          "output_type": "stream",
          "text": [
            "Retorno de ITUB3.SA:  1.135128493482463\n",
            "Retorno de VALE3.SA:  3.6322959817622653\n",
            "Retorno do portfolio:  2.383712237622364\n"
          ]
        }
      ],
      "source": [
        "stock1_return = stock1_data['Adj Close'].pct_change()\n",
        "returns_stock1 = stock1_return[1:]\n",
        "returns_stock1_acm = (1+returns_stock1).cumprod()\n",
        "\n",
        "stock2_return = stock2_data['Adj Close'].pct_change()\n",
        "returns_stock2 = stock2_return[1:]\n",
        "returns_stock2_acm = (1+returns_stock2).cumprod()\n",
        "\n",
        "cov_matrix = pd.concat([returns_stock1_acm, returns_stock2_acm], axis=1).cov()\n",
        "\n",
        "portfolio_return = (0.5 * returns_stock1) + (0.5 * returns_stock2)\n",
        "portfolio_return_acm = (0.5 * returns_stock1_acm) + (0.5 * returns_stock2_acm)\n",
        "\n",
        "\n",
        "print('Retorno de ' + stock1 + ': ', returns_stock1_acm[-1])\n",
        "print('Retorno de ' + stock2 + ': ', returns_stock2_acm[-1])\n",
        "print('Retorno do portfolio: ', portfolio_return_acm[-1])"
      ]
    },
    {
      "cell_type": "code",
      "execution_count": 19,
      "metadata": {
        "colab": {
          "base_uri": "https://localhost:8080/"
        },
        "id": "rguLRdwqOOrO",
        "outputId": "ad913ab3-3eb2-41c8-8187-8b15528215b7"
      },
      "outputs": [
        {
          "name": "stdout",
          "output_type": "stream",
          "text": [
            "Desvio padrão de ITUB3.SA:  0.14222083458262733\n",
            "Desvio padrão de VALE3.SA:  0.8721653086249893\n",
            "Desvio padrão do portfolio :  0.4270988528078331\n"
          ]
        }
      ],
      "source": [
        "stock1_var = returns_stock1_acm.var()\n",
        "stock2_var = returns_stock2_acm.var()\n",
        "portfolio_std = np.sqrt(0.5**2*stock1_var+0.5**2*stock2_var+2*0.5*0.5*cov_matrix.values[0,1])\n",
        "\n",
        "print('Desvio padrão de ' + stock1 + ': ', np.sqrt(stock1_var))\n",
        "print('Desvio padrão de ' + stock2 + ': ', np.sqrt(stock2_var))\n",
        "print('Desvio padrão do portfolio : ', portfolio_std)"
      ]
    },
    {
      "cell_type": "code",
      "execution_count": 20,
      "metadata": {
        "id": "moljdMARQP7P"
      },
      "outputs": [],
      "source": [
        "dates = portfolio_return.index\n",
        "formatted_dates = [date.strftime('%Y-%m-%d') for date in dates]"
      ]
    },
    {
      "cell_type": "code",
      "execution_count": 21,
      "metadata": {
        "colab": {
          "base_uri": "https://localhost:8080/",
          "height": 929
        },
        "id": "Yl4l24zVP9fm",
        "outputId": "6568e49d-a5dc-47a4-869c-f8ec0c528a3b"
      },
      "outputs": [
        {
          "data": {
            "image/png": "[encoded data removed]",
            "text/plain": [
              "<Figure size 432x288 with 1 Axes>"
            ]
          },
          "metadata": {
            "needs_background": "light"
          },
          "output_type": "display_data"
        },
        {
          "data": {
            "image/png": "[encoded data removed]",
            "text/plain": [
              "<Figure size 432x288 with 1 Axes>"
            ]
          },
          "metadata": {
            "needs_background": "light"
          },
          "output_type": "display_data"
        }
      ],
      "source": [
        "fig, ax = plt.subplots()\n",
        "ax.plot(formatted_dates, portfolio_return)\n",
        "ax.set_xlabel('Data')\n",
        "ax.set_ylabel('Retorno')\n",
        "\n",
        "number_of_ticks = 10\n",
        "indices = np.linspace(0, len(formatted_dates)-1, number_of_ticks)\n",
        "ax.xaxis.set_ticks(indices)\n",
        "\n",
        "ax.set_xticklabels([formatted_dates[int(i)] for i in indices], rotation=90)\n",
        "\n",
        "plt.show()\n",
        "\n",
        "\n",
        "#plt.savefig('retorno_portfolio.png')\n",
        "\n",
        "ax = portfolio_return.hist()\n",
        "fig = ax.get_figure()\n",
        "#fig.savefig('portfolio_hist.png')\n"
      ]
    },
    {
      "cell_type": "code",
      "execution_count": 22,
      "metadata": {
        "id": "vKM0I0wqSpSn"
      },
      "outputs": [],
      "source": [
        "dates = portfolio_return_acm.index\n",
        "formatted_dates = [date.strftime('%Y-%m-%d') for date in dates]"
      ]
    },
    {
      "cell_type": "code",
      "execution_count": 23,
      "metadata": {
        "colab": {
          "base_uri": "https://localhost:8080/",
          "height": 929
        },
        "id": "bcAiqp9USRfZ",
        "outputId": "f2b4e30b-6626-4981-a0fb-5820240a9a1d"
      },
      "outputs": [
        {
          "data": {
            "image/png": "[encoded data removed]",
            "text/plain": [
              "<Figure size 432x288 with 1 Axes>"
            ]
          },
          "metadata": {
            "needs_background": "light"
          },
          "output_type": "display_data"
        },
        {
          "data": {
            "image/png": "[encoded data removed]",
            "text/plain": [
              "<Figure size 432x288 with 1 Axes>"
            ]
          },
          "metadata": {
            "needs_background": "light"
          },
          "output_type": "display_data"
        }
      ],
      "source": [
        "fig, ax = plt.subplots()\n",
        "ax.plot(formatted_dates, portfolio_return_acm)\n",
        "ax.set_xlabel('Data')\n",
        "ax.set_ylabel('Retorno')\n",
        "\n",
        "number_of_ticks = 10\n",
        "indices = np.linspace(0, len(formatted_dates)-1, number_of_ticks)\n",
        "ax.xaxis.set_ticks(indices)\n",
        "\n",
        "ax.set_xticklabels([formatted_dates[int(i)] for i in indices], rotation=90)\n",
        "\n",
        "plt.show()\n",
        "\n",
        "\n",
        "#plt.savefig('retorno_portfolio.png')\n",
        "\n",
        "ax = portfolio_return.hist()\n",
        "fig = ax.get_figure()\n",
        "#fig.savefig('portfolio_hist.png')"
      ]
    },
    {
      "cell_type": "code",
      "execution_count": 24,
      "metadata": {
        "colab": {
          "base_uri": "https://localhost:8080/"
        },
        "id": "BnTVXhnDGwDC",
        "outputId": "b620464d-60ae-40ac-9a44-be104ae12b76"
      },
      "outputs": [
        {
          "name": "stdout",
          "output_type": "stream",
          "text": [
            "Log-Retorno de ITUB3.SA:  0.12674682846784258\n",
            "Log-Retorno de VALE3.SA:  1.2898650298548882\n",
            "Retorno do portfolio:  0.7083059291613654\n"
          ]
        }
      ],
      "source": [
        "stock1_data['log-return'] =(np.log(stock1_data['Adj Close']) - np.log(stock1_data['Adj Close'].shift(1)))\n",
        "stock2_data['log-return'] =(np.log(stock2_data['Adj Close']) - np.log(stock2_data['Adj Close'].shift(1)))\n",
        "\n",
        "cov_matrix = pd.concat([stock1_data['log-return'], stock2_data['log-return'] ], axis=1).cov()\n",
        "\n",
        "portfolio_return_acm = (0.5 * stock1_data['log-return'].cumsum()) + (0.5 * stock2_data['log-return'].cumsum())\n",
        "\n",
        "print('Log-Retorno de ' + stock1 + ': ', stock1_data['log-return'].cumsum()[-1])\n",
        "print('Log-Retorno de ' + stock2 + ': ', stock2_data['log-return'].cumsum()[-1])\n",
        "\n",
        "print('Retorno do portfolio: ', portfolio_return_acm[-1])"
      ]
    },
    {
      "cell_type": "code",
      "execution_count": 25,
      "metadata": {
        "colab": {
          "base_uri": "https://localhost:8080/"
        },
        "id": "oH3YQDjeLLeK",
        "outputId": "ed3d4e4a-7e1b-4e1d-a78e-55d1b6b54388"
      },
      "outputs": [
        {
          "name": "stdout",
          "output_type": "stream",
          "text": [
            "Desvio padrão de ITUB3.SA:  0.019433052739438208\n",
            "Desvio padrão de VALE3.SA:  0.0259056509214729\n",
            "Desvio padrão do portfolio :  0.018467878643116113\n"
          ]
        }
      ],
      "source": [
        "stock1_var = stock1_data['log-return'].var()\n",
        "stock2_var = stock2_data['log-return'].var()\n",
        "portfolio_std = np.sqrt(0.5**2*stock1_var+0.5**2*stock2_var+2*0.5*0.5*cov_matrix.values[0,1])\n",
        "\n",
        "print('Desvio padrão de ' + stock1 + ': ', np.sqrt(stock1_var))\n",
        "print('Desvio padrão de ' + stock2 + ': ', np.sqrt(stock2_var))\n",
        "print('Desvio padrão do portfolio : ', portfolio_std)"
      ]
    },
    {
      "cell_type": "code",
      "execution_count": 26,
      "metadata": {
        "id": "uUiwuWUMPZmH"
      },
      "outputs": [],
      "source": [
        "dates = portfolio_return.index\n",
        "formatted_dates = [date.strftime('%Y-%m-%d') for date in dates]"
      ]
    },
    {
      "cell_type": "code",
      "execution_count": 27,
      "metadata": {
        "colab": {
          "base_uri": "https://localhost:8080/",
          "height": 929
        },
        "id": "WTKIy1xbPgjD",
        "outputId": "46910721-f643-4366-ec3f-9aa1cfa9d5e5"
      },
      "outputs": [
        {
          "data": {
            "image/png": "[encoded data removed]",
            "text/plain": [
              "<Figure size 432x288 with 1 Axes>"
            ]
          },
          "metadata": {
            "needs_background": "light"
          },
          "output_type": "display_data"
        },
        {
          "data": {
            "image/png": "[encoded data removed]",
            "text/plain": [
              "<Figure size 432x288 with 1 Axes>"
            ]
          },
          "metadata": {
            "needs_background": "light"
          },
          "output_type": "display_data"
        }
      ],
      "source": [
        "fig, ax = plt.subplots()\n",
        "ax.plot(formatted_dates, portfolio_return)\n",
        "ax.set_xlabel('Data')\n",
        "ax.set_ylabel('Retorno')\n",
        "\n",
        "number_of_ticks = 10\n",
        "indices = np.linspace(0, len(formatted_dates)-1, number_of_ticks)\n",
        "ax.xaxis.set_ticks(indices)\n",
        "\n",
        "ax.set_xticklabels([formatted_dates[int(i)] for i in indices], rotation=90)\n",
        "\n",
        "plt.show()\n",
        "\n",
        "\n",
        "#plt.savefig('retorno_portfolio.png')\n",
        "\n",
        "ax = portfolio_return.hist()\n",
        "fig = ax.get_figure()\n",
        "#fig.savefig('portfolio_hist.png')\n"
      ]
    },
    {
      "cell_type": "code",
      "execution_count": 28,
      "metadata": {
        "id": "NjGsBscbSwwb"
      },
      "outputs": [],
      "source": [
        "dates = portfolio_return_acm.index\n",
        "formatted_dates = [date.strftime('%Y-%m-%d') for date in dates]"
      ]
    },
    {
      "cell_type": "code",
      "execution_count": 29,
      "metadata": {
        "colab": {
          "base_uri": "https://localhost:8080/",
          "height": 929
        },
        "id": "Ghg1OhblTNFM",
        "outputId": "ddb37eb3-32a7-4534-9f28-fdf4d8d2207d"
      },
      "outputs": [
        {
          "data": {
            "image/png": "[encoded data removed]",
            "text/plain": [
              "<Figure size 432x288 with 1 Axes>"
            ]
          },
          "metadata": {
            "needs_background": "light"
          },
          "output_type": "display_data"
        },
        {
          "data": {
            "image/png": "[encoded data removed]",
            "text/plain": [
              "<Figure size 432x288 with 1 Axes>"
            ]
          },
          "metadata": {
            "needs_background": "light"
          },
          "output_type": "display_data"
        }
      ],
      "source": [
        "fig, ax = plt.subplots()\n",
        "ax.plot(formatted_dates, portfolio_return_acm)\n",
        "ax.set_xlabel('Data')\n",
        "ax.set_ylabel('Retorno')\n",
        "\n",
        "number_of_ticks = 10\n",
        "indices = np.linspace(0, len(formatted_dates)-1, number_of_ticks)\n",
        "ax.xaxis.set_ticks(indices)\n",
        "\n",
        "ax.set_xticklabels([formatted_dates[int(i)] for i in indices], rotation=90)\n",
        "\n",
        "plt.show()\n",
        "\n",
        "\n",
        "#plt.savefig('retorno_portfolio.png')\n",
        "\n",
        "ax = portfolio_return.hist()\n",
        "fig = ax.get_figure()\n",
        "#fig.savefig('portfolio_hist.png')"
      ]
    },
    {
      "cell_type": "code",
      "execution_count": 36,
      "metadata": {
        "id": "dIvRE3hAQpuN"
      },
      "outputs": [
        {
          "name": "stdout",
          "output_type": "stream",
          "text": [
            "[*********************100%***********************]  1 of 1 completed\n",
            "[*********************100%***********************]  1 of 1 completed\n",
            "[*********************100%***********************]  1 of 1 completed\n",
            "Elapsed Time Seq: 4.791119575500488\n",
            "            ITUB3.SA,  VALE3.SA,\n",
            "Date                            \n",
            "2009-01-05   1.003461   1.054426\n",
            "2009-01-06   1.020761   1.083607\n",
            "2009-01-07   0.994810   1.016393\n",
            "2009-01-08   0.994810   1.061639\n",
            "2009-01-09   0.992215   1.044262\n",
            "...               ...        ...\n",
            "2019-12-20   5.347270   2.645846\n",
            "2019-12-23   5.417115   2.635705\n",
            "2019-12-26   5.498883   2.645846\n",
            "2019-12-27   5.478440   2.656968\n",
            "2019-12-30   5.456295   2.642097\n",
            "\n",
            "[2727 rows x 2 columns]\n"
          ]
        }
      ],
      "source": [
        "class GetData:\n",
        "\n",
        "    begin_date = ''\n",
        "    end_date = ''\n",
        "    dataDir = 0\n",
        "    df  = None\n",
        "\n",
        "    def __init__(self, bdate, edate):\n",
        "        self.begin_date = FormataStringData(bdate)\n",
        "        self.end_date = FormataStringData(edate)\n",
        "\n",
        "    def import_data(self, dataDir):\n",
        "        self.dataDir = dataDir\n",
        "        self.df = pd.read_csv(dataDir,sep = ';')\n",
        "\n",
        "        start = time.time()\n",
        "\n",
        "        df_stock = pd.DataFrame()\n",
        "        stock_list = self.df['Ticker'].tolist()\n",
        "        #stock_list.append('IVVB11.SA')\n",
        "        stock_list.append('^GSPC')\n",
        "        for stock in stock_list:\n",
        "          df_stock[stock] = yf.download(stock, start= self.begin_date, end= self.end_date)['Adj Close']\n",
        "\n",
        "        #df_stock=df_stock.fillna(method=\"bfill\")\n",
        "\n",
        "        #Stocks removed if data of the stock is not complete\n",
        "        df_stock = df_stock.dropna(axis=1)\n",
        "\n",
        "        end = time.time()\n",
        "        print(\"Elapsed Time Seq: \"+str(end-start))\n",
        "\n",
        "        returns_stocks = df_stock.pct_change()\n",
        "        returns_stocks = returns_stocks[1:]\n",
        "        returns_stocks_acm = (1+returns_stocks).cumprod()\n",
        "\n",
        "        print(returns_stocks_acm)\n",
        "\n",
        "        returns_stocks_acm.to_csv('./data/stocks_s&p.csv')\n",
        "\n",
        "\n",
        "dataDir ='./data/index_sample.csv'\n",
        "GetData('01/01/2009','31/12/2019').import_data(dataDir)"
      ]
    },
    {
      "cell_type": "code",
      "execution_count": null,
      "metadata": {
        "colab": {
          "base_uri": "https://localhost:8080/"
        },
        "id": "DI9EKD80pRu5",
        "outputId": "9f423b83-aeb4-4cea-f967-3d1717324a04"
      },
      "outputs": [
        {
          "name": "stdout",
          "output_type": "stream",
          "text": [
            "Number of variables = 2\n",
            "Number of constraints = 3\n",
            "Solution:\n",
            "Objective value = 33.99999999999999\n",
            "x = 5.999999999999998\n",
            "y = 3.9999999999999996\n",
            "\n",
            "Advanced usage:\n",
            "Problem solved in 6.000000 milliseconds\n",
            "Problem solved in 2 iterations\n"
          ]
        }
      ],
      "source": [
        "from ortools.linear_solver import pywraplp\n",
        "\n",
        "\n",
        "def LinearProgrammingExample():\n",
        "    \"\"\"Linear programming sample.\"\"\"\n",
        "    # Instantiate a Glop solver, naming it LinearExample.\n",
        "    solver = pywraplp.Solver.CreateSolver('GLOP')\n",
        "    if not solver:\n",
        "        return\n",
        "\n",
        "    # Create the two variables and let them take on any non-negative value.\n",
        "    x = solver.NumVar(0, solver.infinity(), 'x')\n",
        "    y = solver.NumVar(0, solver.infinity(), 'y')\n",
        "\n",
        "    print('Number of variables =', solver.NumVariables())\n",
        "\n",
        "    # Constraint 0: x + 2y <= 14.\n",
        "    solver.Add(x + 2 * y <= 14.0)\n",
        "\n",
        "    # Constraint 1: 3x - y >= 0.\n",
        "    solver.Add(3 * x - y >= 0.0)\n",
        "\n",
        "    # Constraint 2: x - y <= 2.\n",
        "    solver.Add(x - y <= 2.0)\n",
        "\n",
        "    print('Number of constraints =', solver.NumConstraints())\n",
        "\n",
        "    # Objective function: 3x + 4y.\n",
        "    solver.Maximize(3 * x + 4 * y)\n",
        "\n",
        "    # Solve the system.\n",
        "    status = solver.Solve()\n",
        "\n",
        "    if status == pywraplp.Solver.OPTIMAL:\n",
        "        print('Solution:')\n",
        "        print('Objective value =', solver.Objective().Value())\n",
        "        print('x =', x.solution_value())\n",
        "        print('y =', y.solution_value())\n",
        "    else:\n",
        "        print('The problem does not have an optimal solution.')\n",
        "\n",
        "    print('\\nAdvanced usage:')\n",
        "    print('Problem solved in %f milliseconds' % solver.wall_time())\n",
        "    print('Problem solved in %d iterations' % solver.iterations())\n",
        "\n",
        "\n",
        "LinearProgrammingExample()"
      ]
    },
    {
      "cell_type": "code",
      "execution_count": 31,
      "metadata": {
        "colab": {
          "base_uri": "https://localhost:8080/"
        },
        "id": "ZpOIouDppWqj",
        "outputId": "3fee6dac-37ca-4568-f8a2-af44cfd6c1f3"
      },
      "outputs": [
        {
          "name": "stdout",
          "output_type": "stream",
          "text": [
            "Number of variables = 2\n",
            "Number of constraints = 2\n",
            "Solving with CP-SAT solver v9.6.2534\n",
            "Solution:\n",
            "Objective value = 23.0\n",
            "x = 3.0\n",
            "y = 2.0\n",
            "\n",
            "Advanced usage:\n",
            "Problem solved in 995.000000 milliseconds\n",
            "Problem solved in 0 iterations\n",
            "Problem solved in 0 branch-and-bound nodes\n"
          ]
        }
      ],
      "source": [
        "from ortools.linear_solver import pywraplp\n",
        "\n",
        "\n",
        "def LinearIntegerProgrammingExample():\n",
        "    # Create the mip solver with the SCIP backend.\n",
        "    solver = pywraplp.Solver.CreateSolver('SAT')\n",
        "    if not solver:\n",
        "        return\n",
        "\n",
        "    infinity = solver.infinity()\n",
        "    # x and y are integer non-negative variables.\n",
        "    x = solver.IntVar(0.0, infinity, 'x')\n",
        "    y = solver.IntVar(0.0, infinity, 'y')\n",
        "\n",
        "    print('Number of variables =', solver.NumVariables())\n",
        "\n",
        "    # x + 7 * y <= 17.5.\n",
        "    solver.Add(x + 7 * y <= 17.5)\n",
        "\n",
        "    # x <= 3.5.\n",
        "    solver.Add(x <= 3.5)\n",
        "\n",
        "    print('Number of constraints =', solver.NumConstraints())\n",
        "\n",
        "    # Maximize x + 10 * y.\n",
        "    solver.Maximize(x + 10 * y)\n",
        "\n",
        "    print(f'Solving with {solver.SolverVersion()}')\n",
        "    status = solver.Solve()\n",
        "\n",
        "    if status == pywraplp.Solver.OPTIMAL:\n",
        "        print('Solution:')\n",
        "        print('Objective value =', solver.Objective().Value())\n",
        "        print('x =', x.solution_value())\n",
        "        print('y =', y.solution_value())\n",
        "    else:\n",
        "        print('The problem does not have an optimal solution.')\n",
        "\n",
        "    print('\\nAdvanced usage:')\n",
        "    print('Problem solved in %f milliseconds' % solver.wall_time())\n",
        "    print('Problem solved in %d iterations' % solver.iterations())\n",
        "    print('Problem solved in %d branch-and-bound nodes' % solver.nodes())\n",
        "\n",
        "\n",
        "LinearIntegerProgrammingExample()"
      ]
    },
    {
      "cell_type": "code",
      "execution_count": 1,
      "metadata": {
        "colab": {
          "base_uri": "https://localhost:8080/",
          "height": 625
        },
        "id": "a-UzLmLap-Rg",
        "outputId": "5720a98f-d45d-49ee-e2f8-a00f169e783e"
      },
      "outputs": [
        {
          "data": {
            "text/html": [
              "\n",
              "        <iframe\n",
              "            width=\"400\"\n",
              "            height=\"300\"\n",
              "            src=\"https://www.youtube.com/embed/https://www.youtube.com/playlist?list=PLaxOs-8sLebuytu-pPSM4mtsR5VVlFtyW\"\n",
              "            frameborder=\"0\"\n",
              "            allowfullscreen\n",
              "            \n",
              "        ></iframe>\n",
              "        "
            ],
            "text/plain": [
              "<IPython.lib.display.YouTubeVideo at 0x7f509698f5b0>"
            ]
          },
          "metadata": {},
          "output_type": "display_data"
        },
        {
          "data": {
            "text/html": [
              "\n",
              "        <iframe\n",
              "            width=\"400\"\n",
              "            height=\"300\"\n",
              "            src=\"https://www.youtube.com/embed/https://www.youtube.com/watch?v=fRKhao2bzsY&list=PLaxOs-8sLebuYvX0HBe2Hz8pFK-9ila1e&pp=iAQB\"\n",
              "            frameborder=\"0\"\n",
              "            allowfullscreen\n",
              "            \n",
              "        ></iframe>\n",
              "        "
            ],
            "text/plain": [
              "<IPython.lib.display.YouTubeVideo at 0x7f509698fb50>"
            ]
          },
          "metadata": {},
          "output_type": "display_data"
        }
      ],
      "source": [
        "from IPython.display import YouTubeVideo\n",
        "\n",
        "video = YouTubeVideo(\"https://www.youtube.com/playlist?list=PLaxOs-8sLebuytu-pPSM4mtsR5VVlFtyW\")\n",
        "display(video)\n",
        "\n",
        "video2 = YouTubeVideo(\"https://www.youtube.com/watch?v=fRKhao2bzsY&list=PLaxOs-8sLebuYvX0HBe2Hz8pFK-9ila1e&pp=iAQB\")\n",
        "display(video2)\n"
      ]
    },
    {
      "cell_type": "code",
      "execution_count": null,
      "metadata": {},
      "outputs": [],
      "source": []
    }
  ],
  "metadata": {
    "colab": {
      "provenance": []
    },
    "kernelspec": {
      "display_name": "Python 3",
      "name": "python3"
    },
    "language_info": {
      "codemirror_mode": {
        "name": "ipython",
        "version": 3
      },
      "file_extension": ".py",
      "mimetype": "text/x-python",
      "name": "python",
      "nbconvert_exporter": "python",
      "pygments_lexer": "ipython3",
      "version": "3.10.6"
    }
  },
  "nbformat": 4,
  "nbformat_minor": 0
}
