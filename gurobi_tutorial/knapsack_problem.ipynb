{
 "cells": [
  {
   "cell_type": "code",
   "execution_count": 1,
   "metadata": {},
   "outputs": [],
   "source": [
    "W = [4, 2, 5, 4, 5, 1, 3, 5]\n",
    "v = [10, 5, 18, 12, 15, 1, 2, 8]\n",
    "C = 15\n",
    "N = len(W)"
   ]
  },
  {
   "cell_type": "code",
   "execution_count": 2,
   "metadata": {},
   "outputs": [],
   "source": [
    "from gurobipy import *"
   ]
  },
  {
   "cell_type": "code",
   "execution_count": 3,
   "metadata": {},
   "outputs": [
    {
     "name": "stdout",
     "output_type": "stream",
     "text": [
      "Set parameter Username\n",
      "Academic license - for non-commercial use only - expires 2024-06-28\n"
     ]
    }
   ],
   "source": [
    "knapsack_model = Model(\"knapsack\")"
   ]
  },
  {
   "cell_type": "code",
   "execution_count": 4,
   "metadata": {},
   "outputs": [],
   "source": [
    "x = knapsack_model.addVars(N, vtype=GRB.BINARY, name='x')"
   ]
  },
  {
   "cell_type": "code",
   "execution_count": 8,
   "metadata": {},
   "outputs": [],
   "source": [
    "obj_fn = sum(v[i]*x[i] for i in range(N))\n",
    "knapsack_model.setObjective(obj_fn, GRB.MAXIMIZE)"
   ]
  },
  {
   "cell_type": "code",
   "execution_count": 9,
   "metadata": {},
   "outputs": [
    {
     "data": {
      "text/plain": [
       "<gurobi.Constr *Awaiting Model Update*>"
      ]
     },
     "execution_count": 9,
     "metadata": {},
     "output_type": "execute_result"
    }
   ],
   "source": [
    "knapsack_model.addConstr(sum(W[i]*x[i] for i in range(N)) <= C)"
   ]
  },
  {
   "cell_type": "code",
   "execution_count": 10,
   "metadata": {},
   "outputs": [
    {
     "name": "stdout",
     "output_type": "stream",
     "text": [
      "Optimization is done. Objective Function Value: 46.0\n"
     ]
    }
   ],
   "source": [
    "knapsack_model.setParam(\"OutputFlag\", False)\n",
    "knapsack_model.optimize()\n",
    "print(f\"Optimization is done. Objective Function Value: {knapsack_model.ObjVal}\")"
   ]
  },
  {
   "cell_type": "code",
   "execution_count": 11,
   "metadata": {},
   "outputs": [
    {
     "name": "stdout",
     "output_type": "stream",
     "text": [
      "x[0]:0.0\n",
      "x[1]:0.0\n",
      "x[2]:1.0\n",
      "x[3]:1.0\n",
      "x[4]:1.0\n",
      "x[5]:1.0\n",
      "x[6]:0.0\n",
      "x[7]:0.0\n"
     ]
    }
   ],
   "source": [
    "for v in knapsack_model.getVars():\n",
    "    print(f\"{v.varName}:{v.x}\")"
   ]
  },
  {
   "cell_type": "code",
   "execution_count": null,
   "metadata": {},
   "outputs": [],
   "source": []
  }
 ],
 "metadata": {
  "kernelspec": {
   "display_name": "Python 3",
   "language": "python",
   "name": "python3"
  },
  "language_info": {
   "codemirror_mode": {
    "name": "ipython",
    "version": 3
   },
   "file_extension": ".py",
   "mimetype": "text/x-python",
   "name": "python",
   "nbconvert_exporter": "python",
   "pygments_lexer": "ipython3",
   "version": "3.10.6"
  },
  "orig_nbformat": 4
 },
 "nbformat": 4,
 "nbformat_minor": 2
}
